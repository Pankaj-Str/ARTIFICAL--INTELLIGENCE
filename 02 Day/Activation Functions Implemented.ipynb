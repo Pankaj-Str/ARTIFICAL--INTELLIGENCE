{
 "cells": [
  {
   "cell_type": "code",
   "execution_count": 1,
   "metadata": {},
   "outputs": [],
   "source": [
    "# Activation Functions Implemented\n",
    "import numpy as np\n",
    "import matplotlib.pyplot as plt\n",
    "from sklearn.datasets import make_classification\n",
    "from sklearn.preprocessing import StandardScaler\n",
    "import numpy as np"
   ]
  },
  {
   "cell_type": "code",
   "execution_count": 2,
   "metadata": {},
   "outputs": [],
   "source": [
    "class ActivationFunctions:\n",
    "    @staticmethod\n",
    "    def sigmoid(x):\n",
    "        \"\"\"\n",
    "        Sigmoid activation function: transforms input to range (0,1)\n",
    "        Good for binary classification output layers\n",
    "        \"\"\"\n",
    "        return 1 / (1 + np.exp(-x))\n",
    "    \n",
    "    @staticmethod\n",
    "    def relu(x):\n",
    "        \"\"\"\n",
    "        ReLU (Rectified Linear Unit): returns max(0,x)\n",
    "        Most commonly used in hidden layers\n",
    "        \"\"\"\n",
    "        return np.maximum(0, x)\n",
    "    \n",
    "    @staticmethod\n",
    "    def tanh(x):\n",
    "        \"\"\"\n",
    "        Hyperbolic tangent: transforms input to range (-1,1)\n",
    "        Alternative to sigmoid for hidden layers\n",
    "        \"\"\"\n",
    "        return np.tanh(x)\n",
    "    \n",
    "    @staticmethod\n",
    "    def leaky_relu(x, alpha=0.01):\n",
    "        \"\"\"\n",
    "        Leaky ReLU: like ReLU but allows small negative values\n",
    "        Helps prevent \"dying ReLU\" problem\n",
    "        \"\"\"\n",
    "        return np.where(x > 0, x, alpha * x)"
   ]
  },
  {
   "cell_type": "code",
   "execution_count": 3,
   "metadata": {},
   "outputs": [],
   "source": [
    "# Generate a simple dataset\n",
    "np.random.seed(42)\n",
    "X, y = make_classification(n_samples=1000, n_features=2, n_redundant=0, \n",
    "                         n_informative=2, random_state=1, \n",
    "                         n_clusters_per_class=1)"
   ]
  }
 ],
 "metadata": {
  "language_info": {
   "name": "python"
  }
 },
 "nbformat": 4,
 "nbformat_minor": 2
}
