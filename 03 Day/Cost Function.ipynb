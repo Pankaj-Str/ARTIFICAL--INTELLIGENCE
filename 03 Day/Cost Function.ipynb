{
 "cells": [
  {
   "cell_type": "code",
   "execution_count": 10,
   "metadata": {},
   "outputs": [
    {
     "name": "stdout",
     "output_type": "stream",
     "text": [
      "Mean Squared Error Cost: 0.01625000000000003\n",
      "Mean Squared Error Gradient: [ 0.025  0.05  -0.05   0.05 ]\n"
     ]
    }
   ],
   "source": [
    "import numpy as np\n",
    "\n",
    "# Example for Mean Squared Error\n",
    "y_true_reg = np.array([1.0, 2.0, 3.0, 4.0])\n",
    "y_pred_reg = np.array([1.1, 2.2, 2.8, 4.2])\n",
    "mse_cost, mse_grad = CostFunctions.mean_squared_error(y_true_reg, y_pred_reg)\n",
    "print(\"Mean Squared Error Cost:\", mse_cost)\n",
    "print(\"Mean Squared Error Gradient:\", mse_grad)\n",
    "\n"
   ]
  },
  {
   "cell_type": "code",
   "execution_count": 12,
   "metadata": {},
   "outputs": [
    {
     "name": "stdout",
     "output_type": "stream",
     "text": [
      "\n",
      "Binary Cross-Entropy Cost: 0.164252033486018\n",
      "Binary Cross-Entropy Gradient: [-0.27777778  0.27777778 -0.3125      0.3125    ]\n"
     ]
    }
   ],
   "source": [
    "# Example for Binary Cross-Entropy\n",
    "y_true_bin = np.array([1, 0, 1, 0])\n",
    "y_pred_bin = np.array([0.9, 0.1, 0.8, 0.2])\n",
    "bce_cost, bce_grad = CostFunctions.binary_cross_entropy(y_true_bin, y_pred_bin)\n",
    "print(\"\\nBinary Cross-Entropy Cost:\", bce_cost)\n",
    "print(\"Binary Cross-Entropy Gradient:\", bce_grad)\n",
    "\n"
   ]
  },
  {
   "cell_type": "code",
   "execution_count": 13,
   "metadata": {},
   "outputs": [
    {
     "name": "stdout",
     "output_type": "stream",
     "text": [
      "\n",
      "Categorical Cross-Entropy Cost: 0.31216447973055816\n",
      "Categorical Cross-Entropy Gradient: [[-0.41666667 -0.         -0.        ]\n",
      " [-0.         -0.47619048 -0.        ]\n",
      " [-0.         -0.         -0.47619048]]\n"
     ]
    }
   ],
   "source": [
    "# Example for Categorical Cross-Entropy\n",
    "y_true_cat = np.array([[1,0,0], [0,1,0], [0,0,1]])\n",
    "y_pred_cat = np.array([[0.8,0.1,0.1], [0.1,0.7,0.2], [0.1,0.2,0.7]])\n",
    "cce_cost, cce_grad = CostFunctions.categorical_cross_entropy(y_true_cat, y_pred_cat)\n",
    "print(\"\\nCategorical Cross-Entropy Cost:\", cce_cost)\n",
    "print(\"Categorical Cross-Entropy Gradient:\", cce_grad)"
   ]
  }
 ],
 "metadata": {
  "language_info": {
   "name": "python"
  }
 },
 "nbformat": 4,
 "nbformat_minor": 2
}
